{
 "cells": [
  {
   "cell_type": "code",
   "execution_count": 2,
   "metadata": {
    "ExecuteTime": {
     "end_time": "2019-04-23T01:44:14.319352Z",
     "start_time": "2019-04-23T01:44:13.166Z"
    }
   },
   "outputs": [
    {
     "name": "stderr",
     "output_type": "stream",
     "text": [
      "Loading required package: Matrix\n",
      "Loading required package: foreach\n",
      "Loaded glmnet 2.0-16\n",
      "\n"
     ]
    }
   ],
   "source": [
    "library(MASS)\n",
    "library(glmnet)"
   ]
  },
  {
   "cell_type": "markdown",
   "metadata": {},
   "source": [
    "## A freind of mine works a lot with regression, but only uses OLS and doesn't know about ridge or lasso regularization. I volunteered to take a look and see what kind of results I found. This freind also only uses single variable regression, so I also wanted to investigate the performance of a multivariate model."
   ]
  },
  {
   "cell_type": "code",
   "execution_count": 3,
   "metadata": {
    "ExecuteTime": {
     "end_time": "2019-04-23T01:44:14.398630Z",
     "start_time": "2019-04-23T01:44:13.816Z"
    }
   },
   "outputs": [],
   "source": [
    "actual <- log(c(462013,8490,162011,35710,404995,236036,263045,25134,310185,128922,5420,1587600))\n",
    "\n",
    "# our available variables\n",
    "a <- c(99578,0.001,270690,48329,490944,0.001,882665,0.001,0.001,0.001,0.001,1844303)\n",
    "b <- c(860403,4604,145154,51082,186943,108519,170585,18413,913413,186539,16230,2095601)\n",
    "c <- c(92723,17993,112082,14738,94995,309410,132025,1712,113215,11581,9743,603188)\n",
    "\n",
    "df <- as.data.frame(cbind(log(a),log(b),log(c)))\n",
    "mat <- model.matrix(actual~.,data = df)[,-1]\n",
    "\n",
    "# training-testing split\n",
    "trainRows <- sample(1:nrow(mat),(nrow(mat)/2))\n",
    "testRows <- (-trainRows)\n",
    "actualTest  <- actual[testRows]"
   ]
  },
  {
   "cell_type": "code",
   "execution_count": 4,
   "metadata": {
    "ExecuteTime": {
     "end_time": "2019-04-23T01:44:14.470194Z",
     "start_time": "2019-04-23T01:44:14.065Z"
    }
   },
   "outputs": [
    {
     "name": "stdout",
     "output_type": "stream",
     "text": [
      "[1] \"training\"\n",
      "          V1        V2        V3 actual[trainRows]\n",
      "6  -6.907755 11.594681 12.642423         12.371740\n",
      "5  13.104085 12.138559 11.461580         12.911630\n",
      "4  10.785787 10.841187  9.598184         10.483186\n",
      "2  -6.907755  8.434681  9.797738          9.046644\n",
      "10 -6.907755 12.136396  9.357121         11.766963\n",
      "3  12.508730 11.885551 11.626986         11.995420\n",
      "[1] \"testing\"\n",
      "          V1        V2        V3 actual[testRows]\n",
      "1  11.508697 13.665156 11.437372        13.043348\n",
      "7  13.690701 12.046989 11.790747        12.480080\n",
      "8  -6.907755  9.820812  7.445418        10.131977\n",
      "9  -6.907755 13.724943 11.637044        12.644924\n",
      "11 -6.907755  9.694617  9.184304         8.597851\n",
      "12 14.427612 14.555351 13.309984        14.277734\n"
     ]
    }
   ],
   "source": [
    "print(\"training\")\n",
    "print(cbind(df[trainRows,],actual[trainRows]))\n",
    "print('testing')\n",
    "print(cbind(df[testRows,],actual[testRows]))\n"
   ]
  },
  {
   "cell_type": "markdown",
   "metadata": {},
   "source": [
    "## Construct Models "
   ]
  },
  {
   "cell_type": "code",
   "execution_count": 5,
   "metadata": {
    "ExecuteTime": {
     "end_time": "2019-04-23T01:44:15.079076Z",
     "start_time": "2019-04-23T01:44:14.999Z"
    }
   },
   "outputs": [],
   "source": [
    "lambdas  <- 10^seq(10,-2,length=100)\n",
    "train.ridge <- glmnet(mat[trainRows,],actual[trainRows],alpha = 0,lambda = lambdas)\n"
   ]
  },
  {
   "cell_type": "markdown",
   "metadata": {},
   "source": [
    "## OLS Predictions"
   ]
  },
  {
   "cell_type": "code",
   "execution_count": 6,
   "metadata": {
    "ExecuteTime": {
     "end_time": "2019-04-23T01:44:15.933972Z",
     "start_time": "2019-04-23T01:44:15.902Z"
    }
   },
   "outputs": [],
   "source": [
    "train.ols <- lm(actual~.,data=df,subset = trainRows)\n",
    "predictions.ols <- predict(train.ols,newx = df[testRows,])"
   ]
  },
  {
   "cell_type": "markdown",
   "metadata": {},
   "source": [
    "## Ridge Predictions"
   ]
  },
  {
   "cell_type": "code",
   "execution_count": 7,
   "metadata": {
    "ExecuteTime": {
     "end_time": "2019-04-23T01:44:16.633779Z",
     "start_time": "2019-04-23T01:44:16.563Z"
    }
   },
   "outputs": [
    {
     "ename": "ERROR",
     "evalue": "Error in predict.glmnet(train.ridge, s = best.lambda, newx = mat[testRows, : object 'best.lambda' not found\n",
     "output_type": "error",
     "traceback": [
      "Error in predict.glmnet(train.ridge, s = best.lambda, newx = mat[testRows, : object 'best.lambda' not found\nTraceback:\n",
      "1. predict(train.ridge, s = best.lambda, newx = mat[testRows, ])",
      "2. predict.elnet(train.ridge, s = best.lambda, newx = mat[testRows, \n .     ])",
      "3. NextMethod(\"predict\")",
      "4. predict.glmnet(train.ridge, s = best.lambda, newx = mat[testRows, \n .     ])"
     ]
    }
   ],
   "source": [
    "train.ridge <- glmnet(mat[trainRows,],actual[trainRows],alpha = 0,lambda = lambdas)\n",
    "predictions.ridge <- predict(train.ridge,s=best.lambda,newx = mat[testRows,])"
   ]
  },
  {
   "cell_type": "markdown",
   "metadata": {},
   "source": [
    "## Lasso Predictions"
   ]
  },
  {
   "cell_type": "code",
   "execution_count": 8,
   "metadata": {
    "ExecuteTime": {
     "end_time": "2019-04-23T01:44:17.296418Z",
     "start_time": "2019-04-23T01:44:17.145Z"
    }
   },
   "outputs": [
    {
     "name": "stderr",
     "output_type": "stream",
     "text": [
      "Warning message:\n",
      "“Option grouped=FALSE enforced in cv.glmnet, since < 3 observations per fold”"
     ]
    }
   ],
   "source": [
    "train.lasso <- glmnet(mat[trainRows,],actual[trainRows],alpha = 1,lambda = lambdas)\n",
    "#find best lambda\n",
    "best.lambda <- cv.glmnet(mat[trainRows,],actual[trainRows],alpha=0)$lambda.min\n",
    "predictions.lasso <- predict(train.lasso,s=best.lambda,newx = mat[testRows,])"
   ]
  },
  {
   "cell_type": "markdown",
   "metadata": {},
   "source": [
    "## Compare Predictions"
   ]
  },
  {
   "cell_type": "code",
   "execution_count": 9,
   "metadata": {
    "ExecuteTime": {
     "end_time": "2019-04-23T01:44:18.003242Z",
     "start_time": "2019-04-23T01:44:17.962Z"
    }
   },
   "outputs": [
    {
     "ename": "ERROR",
     "evalue": "Error in mean((predictions.ridge - actual[testRows])^2): object 'predictions.ridge' not found\n",
     "output_type": "error",
     "traceback": [
      "Error in mean((predictions.ridge - actual[testRows])^2): object 'predictions.ridge' not found\nTraceback:\n",
      "1. mean((predictions.ridge - actual[testRows])^2)"
     ]
    }
   ],
   "source": [
    "mse.ols  <- mean((predictions.ols - actual[testRows])^2)\n",
    "mse.ridge  <- mean((predictions.ridge - actual[testRows])^2)\n",
    "mse.lasso  <- mean((predictions.lasso - actual[testRows])^2)\n",
    "\n",
    "print('OLS MSE')\n",
    "print(mse.ols)\n",
    "print('Ridge MSE')\n",
    "print(mse.ridge)\n",
    "print('Lasso MSE')\n",
    "print(mse.lasso)"
   ]
  },
  {
   "cell_type": "markdown",
   "metadata": {},
   "source": [
    "## Compare Stability"
   ]
  },
  {
   "cell_type": "code",
   "execution_count": 10,
   "metadata": {
    "ExecuteTime": {
     "end_time": "2019-04-23T01:45:18.616355Z",
     "start_time": "2019-04-23T01:44:19.038Z"
    }
   },
   "outputs": [],
   "source": [
    "ols.mse  <- list()\n",
    "ridge.mse  <- list()\n",
    "lasso.mse  <- list()\n",
    "\n",
    "for(i in 1:1000){\n",
    "    actual <- log(c(462013,8490,162011,35710,404995,236036,263045,25134,310185,128922,5420,1587600))\n",
    "\n",
    "    a <- c(99578,0.0001,270690,48329,490944,0.001,882665,0.0001,0.0001,0.0001,0.0001,1844303)\n",
    "    b <- c(860403,4604,145154,51082,186943,108519,170585,18413,913413,186539,16230,2095601)\n",
    "    c <- c(92723,17993,112082,14738,94995,309410,132025,1712,113215,11581,9743,603188)\n",
    "\n",
    "    df <- as.data.frame(cbind(log(a),log(b),log(c)))\n",
    "    mat <- model.matrix(actual~.,data = df)[,-1]\n",
    "    \n",
    "    \n",
    "\n",
    "    #segments\n",
    "    trainRows <- sample(1:nrow(mat),(nrow(mat)/2))\n",
    "    testRows <- (-trainRows)\n",
    "    actualTest  <- actual[testRows]\n",
    "    \n",
    "    train.ols <- lm(actual~.,data=df,subset = trainRows)\n",
    "    predictions.ols <- predict(train.ols,newx = df[testRows,])\n",
    "    \n",
    "    train.ridge <- glmnet(mat[trainRows,],actual[trainRows],alpha = 0,lambda = lambdas)\n",
    "    best.lambda <- cv.glmnet(mat[trainRows,],grouped=FALSE,actual[trainRows],alpha=0)$lambda.min\n",
    "    predictions.ridge <- predict(train.ridge,s=best.lambda,newx = mat[testRows,])\n",
    "    \n",
    "    train.lasso <- glmnet(mat[trainRows,],actual[trainRows],alpha = 1,lambda = lambdas)\n",
    "    predictions.lasso <- predict(train.lasso,s=best.lambda,newx = mat[testRows,])\n",
    "    ols.mse[i]   <- mean((predictions.ols - actual[testRows])^2)\n",
    "    ridge.mse[i] <- mean((predictions.ridge - actual[testRows])^2)\n",
    "    lasso.mse[i] <- mean((predictions.lasso - actual[testRows])^2)\n",
    "}\n"
   ]
  },
  {
   "cell_type": "code",
   "execution_count": 17,
   "metadata": {
    "ExecuteTime": {
     "end_time": "2019-04-23T02:34:43.388441Z",
     "start_time": "2019-04-23T02:34:43.357Z"
    }
   },
   "outputs": [
    {
     "name": "stdout",
     "output_type": "stream",
     "text": [
      "[1] 66.35884\n"
     ]
    }
   ],
   "source": [
    "print(max(as.numeric(ridge.mse)))"
   ]
  },
  {
   "cell_type": "code",
   "execution_count": 32,
   "metadata": {
    "ExecuteTime": {
     "end_time": "2019-04-23T02:42:16.234374Z",
     "start_time": "2019-04-23T02:42:16.126Z"
    }
   },
   "outputs": [
    {
     "data": {
      "image/png": "[encoded data removed]",
      "text/plain": [
       "Plot with title “Regularization Predictions”"
      ]
     },
     "metadata": {},
     "output_type": "display_data"
    }
   ],
   "source": [
    "# Histogram Grey Color\n",
    "hist(as.numeric(ols.mse),ylim=c(0,1000),breaks = seq(from=0,to=20,by=1), col=rgb(0.5,0.2,0.8,1),add=F, xlim = c(0,10),main = \"Regularization Predictions\",xlab = \"MSE\")\n",
    "hist(as.numeric(ridge.mse), breaks = seq(from=0,to=70, length.out = 70),col=rgb(0.1,0.6,0,1),add=T, xlim = c(0,10))\n",
    "hist(as.numeric(lasso.mse), breaks = seq(from=0,to=20,by=1),col=rgb(0.2,0.1,1,0.5),add=T, xlim = c(0,10))\n",
    "legend('right',c('ols','ridge','lasso'),fill = c(rgb(0.5,0.2,0.8,1),rgb(0.1,0.6,0,1),rgb(0.2,0.1,1,0.5)))\n"
   ]
  },
  {
   "cell_type": "markdown",
   "metadata": {
    "ExecuteTime": {
     "end_time": "2019-01-04T21:03:06.959666Z",
     "start_time": "2019-01-04T21:03:06.679Z"
    }
   },
   "source": [
    "# Ridge/Lasso Assumptions"
   ]
  },
  {
   "cell_type": "markdown",
   "metadata": {},
   "source": [
    "### Linearity of dependent variable with independant variables"
   ]
  },
  {
   "cell_type": "code",
   "execution_count": 118,
   "metadata": {
    "ExecuteTime": {
     "end_time": "2019-01-04T21:08:47.026755Z",
     "start_time": "2019-01-04T21:08:46.926Z"
    }
   },
   "outputs": [
    {
     "data": {
      "image/png": "[encoded data removed]",
      "text/plain": [
       "plot without title"
      ]
     },
     "metadata": {},
     "output_type": "display_data"
    }
   ],
   "source": [
    "par(mfrow = c(2,2))\n",
    "plot(log(a),actual)\n",
    "plot(log(b),actual)\n",
    "plot(log(c),actual)"
   ]
  },
  {
   "cell_type": "markdown",
   "metadata": {},
   "source": [
    "### I'd say that variable 'a' is a little be questionable, but 'b' and 'c' seem fine"
   ]
  },
  {
   "cell_type": "code",
   "execution_count": 120,
   "metadata": {
    "ExecuteTime": {
     "end_time": "2019-01-04T21:12:48.653856Z",
     "start_time": "2019-01-04T21:12:24.160Z"
    },
    "scrolled": true
   },
   "outputs": [
    {
     "name": "stderr",
     "output_type": "stream",
     "text": [
      "also installing the dependencies ‘checkmate’, ‘latticeExtra’, ‘acepack’, ‘gridExtra’, ‘htmlTable’, ‘viridis’\n",
      "\n"
     ]
    },
    {
     "name": "stdout",
     "output_type": "stream",
     "text": [
      "\n",
      "The downloaded binary packages are in\n",
      "\t/var/folders/m5/h_876gpd4ml06hs93nnx08nc0000gn/T//RtmprlrzAY/downloaded_packages\n"
     ]
    }
   ],
   "source": [
    "install.packages(\"Hmisc\")"
   ]
  },
  {
   "cell_type": "markdown",
   "metadata": {},
   "source": [
    "### No terribly collinear predictor variables"
   ]
  },
  {
   "cell_type": "code",
   "execution_count": 121,
   "metadata": {
    "ExecuteTime": {
     "end_time": "2019-01-04T21:13:06.844838Z",
     "start_time": "2019-01-04T21:13:06.142Z"
    }
   },
   "outputs": [
    {
     "name": "stderr",
     "output_type": "stream",
     "text": [
      "Loading required package: lattice\n",
      "Loading required package: survival\n",
      "Loading required package: Formula\n",
      "Loading required package: ggplot2\n",
      "\n",
      "Attaching package: ‘Hmisc’\n",
      "\n",
      "The following objects are masked from ‘package:base’:\n",
      "\n",
      "    format.pval, units\n",
      "\n"
     ]
    },
    {
     "data": {
      "text/plain": [
       "     V1   V2   V3\n",
       "V1 1.00 0.49 0.51\n",
       "V2 0.49 1.00 0.72\n",
       "V3 0.51 0.72 1.00\n",
       "\n",
       "n= 12 \n",
       "\n",
       "\n",
       "P\n",
       "   V1     V2     V3    \n",
       "V1        0.1038 0.0917\n",
       "V2 0.1038        0.0087\n",
       "V3 0.0917 0.0087       "
      ]
     },
     "metadata": {},
     "output_type": "display_data"
    }
   ],
   "source": [
    "library(\"Hmisc\")\n",
    "res2 <- rcorr(mat)\n",
    "res2"
   ]
  },
  {
   "cell_type": "code",
   "execution_count": 126,
   "metadata": {
    "ExecuteTime": {
     "end_time": "2019-01-04T21:17:19.786158Z",
     "start_time": "2019-01-04T21:17:19.737Z"
    }
   },
   "outputs": [
    {
     "data": {
      "text/html": [
       "<dl class=dl-horizontal>\n",
       "\t<dt>log(a)</dt>\n",
       "\t\t<dd>1.41254549963812</dd>\n",
       "\t<dt>log(b)</dt>\n",
       "\t\t<dd>2.15544251978827</dd>\n",
       "\t<dt>log(c)</dt>\n",
       "\t\t<dd>2.20070729541446</dd>\n",
       "</dl>\n"
      ],
      "text/latex": [
       "\\begin{description*}\n",
       "\\item[log(a)] 1.41254549963812\n",
       "\\item[log(b)] 2.15544251978827\n",
       "\\item[log(c)] 2.20070729541446\n",
       "\\end{description*}\n"
      ],
      "text/markdown": [
       "log(a)\n",
       ":   1.41254549963812log(b)\n",
       ":   2.15544251978827log(c)\n",
       ":   2.20070729541446\n",
       "\n"
      ],
      "text/plain": [
       "  log(a)   log(b)   log(c) \n",
       "1.412545 2.155443 2.200707 "
      ]
     },
     "metadata": {},
     "output_type": "display_data"
    }
   ],
   "source": [
    "vif(glm(actual~log(a)+log(b)+log(c)))"
   ]
  },
  {
   "cell_type": "markdown",
   "metadata": {
    "ExecuteTime": {
     "end_time": "2019-01-04T21:19:01.580749Z",
     "start_time": "2019-01-04T21:19:01.557Z"
    }
   },
   "source": [
    "### Usually a variance inflation factor of 5 or more is considered bad. These appear to be ok."
   ]
  },
  {
   "cell_type": "markdown",
   "metadata": {
    "ExecuteTime": {
     "end_time": "2019-01-31T06:38:06.675740Z",
     "start_time": "2019-01-31T06:38:06.642Z"
    }
   },
   "source": [
    "Now I want to compare ridge with the model that my freind was currently using. Their model was this\n",
    "\\begin{aligned}\n",
    "\\hat{y}&= \\log{(a)} +\\log{(b)}+\\log{(c)}\n",
    "\\end{aligned}"
   ]
  },
  {
   "cell_type": "code",
   "execution_count": null,
   "metadata": {},
   "outputs": [],
   "source": []
  }
 ],
 "metadata": {
  "kernelspec": {
   "display_name": "R",
   "language": "R",
   "name": "ir"
  },
  "language_info": {
   "codemirror_mode": "r",
   "file_extension": ".r",
   "mimetype": "text/x-r-source",
   "name": "R",
   "pygments_lexer": "r",
   "version": "3.5.0"
  }
 },
 "nbformat": 4,
 "nbformat_minor": 2
}
